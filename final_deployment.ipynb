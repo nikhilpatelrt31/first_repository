{
 "cells": [
  {
   "cell_type": "code",
   "execution_count": null,
   "metadata": {
    "execution": {
     "iopub.execute_input": "2025-02-11T04:57:27.140029Z",
     "iopub.status.busy": "2025-02-11T04:57:27.139691Z",
     "iopub.status.idle": "2025-02-11T04:57:27.145219Z",
     "shell.execute_reply": "2025-02-11T04:57:27.143832Z",
     "shell.execute_reply.started": "2025-02-11T04:57:27.140008Z"
    },
    "trusted": true
   },
   "outputs": [],
   "source": [
    "import pandas as pd\n",
    "import numpy as np\n",
    "from sklearn.model_selection import train_test_split\n",
    "from sklearn.preprocessing import LabelEncoder,StandardScaler,OrdinalEncoder\n",
    "from sklearn.ensemble import RandomForestRegressor\n",
    "from sklearn.linear_model import LinearRegression\n",
    "from sklearn.pipeline import Pipeline\n",
    "from sklearn.compose import ColumnTransformer"
   ]
  },
  {
   "cell_type": "code",
   "execution_count": 6,
   "metadata": {
    "execution": {
     "iopub.execute_input": "2025-02-11T04:57:27.151188Z",
     "iopub.status.busy": "2025-02-11T04:57:27.150793Z",
     "iopub.status.idle": "2025-02-11T04:57:27.208374Z",
     "shell.execute_reply": "2025-02-11T04:57:27.206755Z",
     "shell.execute_reply.started": "2025-02-11T04:57:27.151158Z"
    },
    "trusted": true
   },
   "outputs": [
    {
     "data": {
      "text/html": [
       "<div>\n",
       "<style scoped>\n",
       "    .dataframe tbody tr th:only-of-type {\n",
       "        vertical-align: middle;\n",
       "    }\n",
       "\n",
       "    .dataframe tbody tr th {\n",
       "        vertical-align: top;\n",
       "    }\n",
       "\n",
       "    .dataframe thead th {\n",
       "        text-align: right;\n",
       "    }\n",
       "</style>\n",
       "<table border=\"1\" class=\"dataframe\">\n",
       "  <thead>\n",
       "    <tr style=\"text-align: right;\">\n",
       "      <th></th>\n",
       "      <th>cut</th>\n",
       "      <th>color</th>\n",
       "      <th>clarity</th>\n",
       "      <th>carat</th>\n",
       "      <th>depth</th>\n",
       "      <th>table</th>\n",
       "      <th>price</th>\n",
       "      <th>x (Premium)</th>\n",
       "      <th>z (Very Good)</th>\n",
       "      <th>y (Good)</th>\n",
       "    </tr>\n",
       "  </thead>\n",
       "  <tbody>\n",
       "    <tr>\n",
       "      <th>0</th>\n",
       "      <td>Fair</td>\n",
       "      <td>E</td>\n",
       "      <td>VS2</td>\n",
       "      <td>0.22</td>\n",
       "      <td>65.1</td>\n",
       "      <td>61.0</td>\n",
       "      <td>337</td>\n",
       "      <td>3.87</td>\n",
       "      <td>2.49</td>\n",
       "      <td>3.78</td>\n",
       "    </tr>\n",
       "    <tr>\n",
       "      <th>1</th>\n",
       "      <td>Fair</td>\n",
       "      <td>E</td>\n",
       "      <td>SI2</td>\n",
       "      <td>0.86</td>\n",
       "      <td>55.1</td>\n",
       "      <td>69.0</td>\n",
       "      <td>2757</td>\n",
       "      <td>6.45</td>\n",
       "      <td>3.52</td>\n",
       "      <td>6.33</td>\n",
       "    </tr>\n",
       "    <tr>\n",
       "      <th>2</th>\n",
       "      <td>Fair</td>\n",
       "      <td>F</td>\n",
       "      <td>SI2</td>\n",
       "      <td>0.96</td>\n",
       "      <td>66.3</td>\n",
       "      <td>62.0</td>\n",
       "      <td>2759</td>\n",
       "      <td>6.27</td>\n",
       "      <td>4.07</td>\n",
       "      <td>5.95</td>\n",
       "    </tr>\n",
       "    <tr>\n",
       "      <th>3</th>\n",
       "      <td>Fair</td>\n",
       "      <td>F</td>\n",
       "      <td>VS2</td>\n",
       "      <td>0.70</td>\n",
       "      <td>64.5</td>\n",
       "      <td>57.0</td>\n",
       "      <td>2762</td>\n",
       "      <td>5.57</td>\n",
       "      <td>3.58</td>\n",
       "      <td>5.53</td>\n",
       "    </tr>\n",
       "    <tr>\n",
       "      <th>4</th>\n",
       "      <td>Fair</td>\n",
       "      <td>F</td>\n",
       "      <td>VS2</td>\n",
       "      <td>0.70</td>\n",
       "      <td>65.3</td>\n",
       "      <td>55.0</td>\n",
       "      <td>2762</td>\n",
       "      <td>5.63</td>\n",
       "      <td>3.66</td>\n",
       "      <td>5.58</td>\n",
       "    </tr>\n",
       "  </tbody>\n",
       "</table>\n",
       "</div>"
      ],
      "text/plain": [
       "    cut color clarity  carat  depth  table  price  x (Premium)  z (Very Good)  \\\n",
       "0  Fair     E     VS2   0.22   65.1   61.0    337         3.87           2.49   \n",
       "1  Fair     E     SI2   0.86   55.1   69.0   2757         6.45           3.52   \n",
       "2  Fair     F     SI2   0.96   66.3   62.0   2759         6.27           4.07   \n",
       "3  Fair     F     VS2   0.70   64.5   57.0   2762         5.57           3.58   \n",
       "4  Fair     F     VS2   0.70   65.3   55.0   2762         5.63           3.66   \n",
       "\n",
       "   y (Good)  \n",
       "0      3.78  \n",
       "1      6.33  \n",
       "2      5.95  \n",
       "3      5.53  \n",
       "4      5.58  "
      ]
     },
     "execution_count": 6,
     "metadata": {},
     "output_type": "execute_result"
    }
   ],
   "source": [
    "df = pd.read_csv(\"type of the Diamond new.csv\")\n",
    "df.head(5)"
   ]
  },
  {
   "cell_type": "code",
   "execution_count": 7,
   "metadata": {},
   "outputs": [
    {
     "data": {
      "text/plain": [
       "Index(['cut', 'color', 'clarity', 'carat', 'depth', 'table', 'price',\n",
       "       'x (Premium)', 'z (Very Good)', 'y (Good)'],\n",
       "      dtype='object')"
      ]
     },
     "execution_count": 7,
     "metadata": {},
     "output_type": "execute_result"
    }
   ],
   "source": [
    "df.columns"
   ]
  },
  {
   "cell_type": "code",
   "execution_count": 8,
   "metadata": {
    "execution": {
     "iopub.execute_input": "2025-02-11T04:57:27.387967Z",
     "iopub.status.busy": "2025-02-11T04:57:27.387676Z",
     "iopub.status.idle": "2025-02-11T04:57:27.427848Z",
     "shell.execute_reply": "2025-02-11T04:57:27.426588Z",
     "shell.execute_reply.started": "2025-02-11T04:57:27.387938Z"
    },
    "trusted": true
   },
   "outputs": [],
   "source": [
    "X=df.drop([\"price\"],axis=1)\n",
    "y=df[\"price\"]\n",
    "\n",
    "X_train,X_test,y_train,y_test=train_test_split(X,y,test_size=0.2,random_state=42)"
   ]
  },
  {
   "cell_type": "code",
   "execution_count": 9,
   "metadata": {},
   "outputs": [],
   "source": [
    "categorical_features = ['cut', 'color', 'clarity']\n",
    "# numerical_features = [col for col in X.columns if col not in categorical_features]\n",
    "ss = ['carat', 'depth', 'table', 'x (Premium)', 'z (Very Good)', 'y (Good)']\n",
    "\n",
    "# Preprocessing Pipeline\n",
    "trf1 = ColumnTransformer([\n",
    "        ('oe', OrdinalEncoder(categories=[\n",
    "            ['Fair', 'Good', 'Very Good', 'Premium', 'Ideal'],  # cut\n",
    "            ['J', 'I', 'H', 'G', 'F', 'E', 'D'],                # color\n",
    "            ['I1', 'SI2', 'SI1', 'VS2', 'VS1', 'VVS2', 'VVS1', 'IF']  # clarity\n",
    "        ]), categorical_features),\n",
    "        ('scaler',StandardScaler(),ss)\n",
    "    ],remainder='passthrough')\n",
    "\n",
    "trf2 = RandomForestRegressor()\n",
    "\n"
   ]
  },
  {
   "cell_type": "code",
   "execution_count": 10,
   "metadata": {},
   "outputs": [],
   "source": [
    "pipe = Pipeline([\n",
    "    ('trf1',trf1),\n",
    "    ('trf2',trf2)\n",
    "])\n",
    "\n",
    "pipe.fit(X_train,y_train)\n",
    "y_pred = pipe.predict(X_test)"
   ]
  },
  {
   "cell_type": "code",
   "execution_count": null,
   "metadata": {
    "execution": {
     "iopub.execute_input": "2025-02-11T05:30:02.266767Z",
     "iopub.status.busy": "2025-02-11T05:30:02.266438Z",
     "iopub.status.idle": "2025-02-11T05:30:02.280446Z",
     "shell.execute_reply": "2025-02-11T05:30:02.279091Z",
     "shell.execute_reply.started": "2025-02-11T05:30:02.266748Z"
    },
    "trusted": true
   },
   "outputs": [
    {
     "data": {
      "text/plain": [
       "array([2549.09])"
      ]
     },
     "execution_count": 14,
     "metadata": {},
     "output_type": "execute_result"
    }
   ],
   "source": [
    "pipe.predict(pd.DataFrame({\n",
    "    'cut': ['Premium'],\n",
    "    'color': ['F'],\n",
    "    'clarity': ['VS1'],\n",
    "    'carat': [0.96],\n",
    "    'depth': [66.3],\n",
    "    'table': [62.0],\n",
    "    'x (Premium)': [6.27],\n",
    "    'y (Good)': [4.07],\n",
    "    'z (Very Good)': [5.95]\n",
    "}))"
   ]
  },
  {
   "cell_type": "code",
   "execution_count": null,
   "metadata": {},
   "outputs": [
    {
     "data": {
      "text/plain": [
       "array([355.73857143])"
      ]
     },
     "execution_count": 16,
     "metadata": {},
     "output_type": "execute_result"
    }
   ],
   "source": [
    "pipe.predict(pd.DataFrame({\n",
    "    'cut': ['Fair'],\n",
    "    'color': ['E'],\n",
    "    'clarity': ['VS2'],\n",
    "    'carat': [0.22],\n",
    "    'depth': [65.1],\n",
    "    'table': [61.0],\n",
    "    'x (Premium)': [3.87],\n",
    "    'y (Good)': [3.78],\n",
    "    'z (Very Good)': [2.49]\n",
    "}))"
   ]
  },
  {
   "cell_type": "code",
   "execution_count": 17,
   "metadata": {},
   "outputs": [
    {
     "data": {
      "text/plain": [
       "['diamond_price_pred.pkl']"
      ]
     },
     "execution_count": 17,
     "metadata": {},
     "output_type": "execute_result"
    }
   ],
   "source": [
    "import joblib\n",
    "joblib.dump(pipe,\"diamond_price_pred.pkl\")"
   ]
  }
 ],
 "metadata": {
  "kaggle": {
   "accelerator": "none",
   "dataSources": [
    {
     "datasetId": 6570529,
     "sourceId": 10613092,
     "sourceType": "datasetVersion"
    }
   ],
   "isGpuEnabled": false,
   "isInternetEnabled": true,
   "language": "python",
   "sourceType": "notebook"
  },
  "kernelspec": {
   "display_name": "Python 3",
   "language": "python",
   "name": "python3"
  },
  "language_info": {
   "codemirror_mode": {
    "name": "ipython",
    "version": 3
   },
   "file_extension": ".py",
   "mimetype": "text/x-python",
   "name": "python",
   "nbconvert_exporter": "python",
   "pygments_lexer": "ipython3",
   "version": "3.10.12"
  }
 },
 "nbformat": 4,
 "nbformat_minor": 4
}
